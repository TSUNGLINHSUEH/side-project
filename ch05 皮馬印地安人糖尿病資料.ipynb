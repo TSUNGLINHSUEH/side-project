{
 "cells": [
  {
   "cell_type": "code",
   "execution_count": 28,
   "metadata": {},
   "outputs": [
    {
     "data": {
      "text/plain": [
       "<bound method NDFrame.head of      Pregnancies  Glucose  BloodPressure  SkinThickness  Insulin   BMI  \\\n",
       "0              6      148             72             35        0  33.6   \n",
       "1              1       85             66             29        0  26.6   \n",
       "2              8      183             64              0        0  23.3   \n",
       "3              1       89             66             23       94  28.1   \n",
       "4              0      137             40             35      168  43.1   \n",
       "..           ...      ...            ...            ...      ...   ...   \n",
       "763           10      101             76             48      180  32.9   \n",
       "764            2      122             70             27        0  36.8   \n",
       "765            5      121             72             23      112  26.2   \n",
       "766            1      126             60              0        0  30.1   \n",
       "767            1       93             70             31        0  30.4   \n",
       "\n",
       "     DiabetesPedigreeFunction  Age  Outcome  \n",
       "0                       0.627   50        1  \n",
       "1                       0.351   31        0  \n",
       "2                       0.672   32        1  \n",
       "3                       0.167   21        0  \n",
       "4                       2.288   33        1  \n",
       "..                        ...  ...      ...  \n",
       "763                     0.171   63        0  \n",
       "764                     0.340   27        0  \n",
       "765                     0.245   30        0  \n",
       "766                     0.349   47        1  \n",
       "767                     0.315   23        0  \n",
       "\n",
       "[768 rows x 9 columns]>"
      ]
     },
     "execution_count": 28,
     "metadata": {},
     "output_type": "execute_result"
    }
   ],
   "source": [
    "import pandas as pd\n",
    "import matplotlib.pyplot as plt\n",
    "import seaborn as sns\n",
    "import numpy as np\n",
    "\n",
    "df = pd.read_csv(\"diabetes.csv\")\n",
    "df.head"
   ]
  },
  {
   "cell_type": "code",
   "execution_count": 29,
   "metadata": {},
   "outputs": [
    {
     "data": {
      "text/plain": [
       "(768, 9)"
      ]
     },
     "execution_count": 29,
     "metadata": {},
     "output_type": "execute_result"
    }
   ],
   "source": [
    "df.shape"
   ]
  },
  {
   "cell_type": "code",
   "execution_count": 30,
   "metadata": {},
   "outputs": [
    {
     "name": "stdout",
     "output_type": "stream",
     "text": [
      "<class 'pandas.core.frame.DataFrame'>\n",
      "RangeIndex: 768 entries, 0 to 767\n",
      "Data columns (total 9 columns):\n",
      " #   Column                    Non-Null Count  Dtype  \n",
      "---  ------                    --------------  -----  \n",
      " 0   Pregnancies               768 non-null    int64  \n",
      " 1   Glucose                   768 non-null    int64  \n",
      " 2   BloodPressure             768 non-null    int64  \n",
      " 3   SkinThickness             768 non-null    int64  \n",
      " 4   Insulin                   768 non-null    int64  \n",
      " 5   BMI                       768 non-null    float64\n",
      " 6   DiabetesPedigreeFunction  768 non-null    float64\n",
      " 7   Age                       768 non-null    int64  \n",
      " 8   Outcome                   768 non-null    int64  \n",
      "dtypes: float64(2), int64(7)\n",
      "memory usage: 54.1 KB\n"
     ]
    }
   ],
   "source": [
    "df.info()"
   ]
  },
  {
   "cell_type": "code",
   "execution_count": 31,
   "metadata": {},
   "outputs": [
    {
     "data": {
      "image/png": "[encoded data removed]",
      "text/plain": [
       "<Figure size 576x288 with 1 Axes>"
      ]
     },
     "metadata": {},
     "output_type": "display_data"
    }
   ],
   "source": [
    "\n",
    "missing = df.isnull().sum(axis = 0)\n",
    "missing = missing[missing > 0]\n",
    "missing.sort_values(inplace=True)\n",
    "\n",
    "plt.figure(figsize = (8, 4))\n",
    "plt.bar(list(missing.index), np.array(missing))\n",
    "plt.xticks(rotation='vertical')\n",
    "plt.show()"
   ]
  },
  {
   "cell_type": "markdown",
   "metadata": {},
   "source": [
    "使用 np.random.shuffle(df) 函數利用亂數打亂資料順序"
   ]
  },
  {
   "cell_type": "code",
   "execution_count": 32,
   "metadata": {
    "collapsed": true
   },
   "outputs": [],
   "source": [
    "from tensorflow.keras.models import Sequential\n",
    "from tensorflow.keras.layers import Dense\n",
    "from tensorflow.keras.utils import to_categorical\n",
    "\n",
    "dataset = df.values\n",
    "np.random.shuffle(dataset)\n",
    "\n",
    "X = dataset[:,0:8] # 特徵資料\n",
    "Y = dataset[:,8] # 標籤資料"
   ]
  },
  {
   "cell_type": "code",
   "execution_count": 33,
   "metadata": {},
   "outputs": [
    {
     "data": {
      "text/plain": [
       "array([[9.000e+00, 1.120e+02, 8.200e+01, ..., 2.820e+01, 1.282e+00,\n",
       "        5.000e+01],\n",
       "       [4.000e+00, 1.250e+02, 8.000e+01, ..., 3.230e+01, 5.360e-01,\n",
       "        2.700e+01],\n",
       "       [9.000e+00, 1.450e+02, 8.800e+01, ..., 3.030e+01, 7.710e-01,\n",
       "        5.300e+01],\n",
       "       ...,\n",
       "       [5.000e+00, 1.260e+02, 7.800e+01, ..., 2.960e+01, 4.390e-01,\n",
       "        4.000e+01],\n",
       "       [1.000e+01, 1.610e+02, 6.800e+01, ..., 2.550e+01, 3.260e-01,\n",
       "        4.700e+01],\n",
       "       [5.000e+00, 1.680e+02, 6.400e+01, ..., 3.290e+01, 1.350e-01,\n",
       "        4.100e+01]])"
      ]
     },
     "execution_count": 33,
     "metadata": {},
     "output_type": "execute_result"
    }
   ],
   "source": [
    "X"
   ]
  },
  {
   "cell_type": "code",
   "execution_count": 34,
   "metadata": {},
   "outputs": [
    {
     "data": {
      "text/plain": [
       "array([1., 1., 1., 1., 0., 0., 0., 0., 1., 1., 1., 0., 0., 0., 0., 0., 1.,\n",
       "       0., 0., 1., 0., 0., 1., 0., 0., 0., 0., 0., 0., 0., 1., 0., 0., 0.,\n",
       "       0., 0., 0., 0., 0., 0., 0., 0., 0., 0., 1., 0., 0., 0., 1., 0., 0.,\n",
       "       1., 0., 1., 0., 1., 0., 0., 1., 1., 1., 1., 0., 1., 0., 1., 0., 1.,\n",
       "       0., 1., 0., 0., 1., 0., 0., 0., 0., 0., 0., 0., 0., 1., 0., 1., 0.,\n",
       "       0., 1., 0., 1., 1., 0., 0., 0., 1., 0., 1., 1., 0., 0., 0., 0., 1.,\n",
       "       0., 1., 0., 0., 1., 0., 1., 0., 0., 1., 0., 0., 1., 1., 0., 0., 0.,\n",
       "       0., 0., 0., 0., 1., 1., 0., 0., 1., 0., 0., 0., 0., 0., 1., 0., 0.,\n",
       "       0., 0., 0., 1., 1., 1., 1., 0., 0., 0., 0., 0., 0., 0., 0., 1., 0.,\n",
       "       1., 0., 1., 0., 0., 1., 0., 0., 0., 0., 0., 0., 1., 1., 0., 0., 0.,\n",
       "       0., 1., 0., 0., 1., 0., 0., 0., 0., 1., 0., 0., 0., 1., 0., 1., 0.,\n",
       "       0., 1., 0., 0., 0., 0., 1., 0., 0., 0., 0., 1., 1., 0., 0., 1., 1.,\n",
       "       0., 1., 0., 1., 0., 0., 0., 0., 0., 0., 1., 0., 1., 0., 0., 0., 0.,\n",
       "       0., 0., 1., 0., 0., 0., 0., 1., 0., 1., 0., 0., 0., 0., 1., 1., 1.,\n",
       "       0., 1., 1., 0., 0., 0., 0., 1., 1., 1., 1., 1., 1., 0., 1., 0., 0.,\n",
       "       0., 0., 1., 1., 1., 0., 0., 1., 0., 1., 1., 0., 0., 1., 0., 0., 1.,\n",
       "       0., 1., 1., 0., 0., 0., 1., 1., 0., 1., 1., 0., 1., 1., 1., 0., 0.,\n",
       "       0., 0., 1., 0., 0., 1., 1., 0., 0., 1., 0., 0., 0., 0., 0., 0., 0.,\n",
       "       0., 0., 1., 0., 0., 0., 0., 0., 0., 0., 0., 0., 0., 0., 0., 1., 0.,\n",
       "       0., 0., 1., 0., 0., 0., 1., 0., 1., 1., 0., 1., 0., 0., 0., 1., 1.,\n",
       "       0., 0., 0., 0., 0., 0., 0., 1., 0., 0., 1., 0., 1., 0., 1., 1., 1.,\n",
       "       1., 1., 1., 0., 0., 0., 0., 0., 0., 0., 1., 1., 0., 0., 0., 1., 1.,\n",
       "       0., 0., 0., 0., 1., 0., 0., 0., 0., 0., 1., 0., 1., 1., 1., 1., 1.,\n",
       "       1., 0., 0., 0., 0., 1., 0., 1., 0., 1., 0., 0., 1., 1., 0., 0., 0.,\n",
       "       0., 1., 0., 0., 0., 0., 0., 1., 0., 0., 1., 1., 1., 1., 0., 0., 0.,\n",
       "       1., 0., 0., 0., 1., 0., 1., 0., 0., 0., 0., 0., 0., 0., 1., 0., 0.,\n",
       "       0., 0., 1., 1., 1., 0., 0., 0., 1., 0., 0., 0., 1., 0., 0., 0., 1.,\n",
       "       1., 0., 0., 0., 1., 0., 0., 0., 0., 0., 1., 0., 1., 1., 0., 0., 1.,\n",
       "       0., 1., 1., 0., 1., 0., 1., 1., 0., 0., 1., 0., 0., 0., 1., 0., 1.,\n",
       "       0., 0., 1., 0., 0., 1., 0., 0., 0., 0., 1., 0., 0., 0., 0., 0., 1.,\n",
       "       1., 0., 0., 0., 1., 0., 0., 0., 1., 1., 0., 0., 0., 0., 1., 0., 0.,\n",
       "       0., 1., 0., 0., 1., 1., 0., 0., 0., 0., 1., 1., 0., 0., 0., 0., 1.,\n",
       "       1., 0., 0., 0., 0., 0., 0., 1., 0., 0., 0., 1., 1., 0., 1., 1., 1.,\n",
       "       0., 0., 1., 1., 0., 0., 0., 0., 0., 0., 1., 1., 1., 1., 0., 0., 0.,\n",
       "       0., 0., 1., 0., 1., 0., 0., 0., 0., 0., 0., 0., 1., 0., 1., 0., 1.,\n",
       "       0., 0., 0., 0., 1., 0., 0., 0., 1., 0., 0., 0., 0., 1., 0., 0., 1.,\n",
       "       1., 1., 0., 0., 0., 0., 0., 1., 1., 0., 0., 1., 0., 1., 1., 0., 0.,\n",
       "       0., 0., 1., 1., 0., 1., 0., 1., 0., 0., 0., 1., 0., 0., 0., 0., 0.,\n",
       "       0., 1., 0., 1., 0., 0., 1., 1., 1., 1., 0., 1., 0., 0., 1., 0., 0.,\n",
       "       0., 0., 0., 1., 0., 0., 0., 1., 0., 0., 1., 1., 0., 0., 1., 0., 1.,\n",
       "       0., 0., 1., 0., 1., 1., 0., 0., 0., 1., 0., 1., 0., 1., 0., 0., 0.,\n",
       "       1., 0., 1., 1., 0., 0., 0., 0., 0., 0., 0., 1., 0., 1., 0., 1., 1.,\n",
       "       1., 0., 0., 1., 1., 0., 0., 1., 0., 0., 0., 0., 0., 1., 0., 1., 0.,\n",
       "       1., 1., 0., 0., 0., 0., 0., 0., 1., 0., 0., 0., 0., 0., 0., 1., 1.,\n",
       "       1., 0., 0., 0., 1., 1., 0., 0., 1., 1., 1., 0., 1., 0., 0., 1., 1.,\n",
       "       0., 1., 1.])"
      ]
     },
     "execution_count": 34,
     "metadata": {},
     "output_type": "execute_result"
    }
   ],
   "source": [
    "Y"
   ]
  },
  {
   "cell_type": "code",
   "execution_count": 35,
   "metadata": {},
   "outputs": [
    {
     "name": "stdout",
     "output_type": "stream",
     "text": [
      "Model: \"sequential_13\"\n",
      "_________________________________________________________________\n",
      "Layer (type)                 Output Shape              Param #   \n",
      "=================================================================\n",
      "dense_39 (Dense)             (None, 10)                90        \n",
      "_________________________________________________________________\n",
      "dense_40 (Dense)             (None, 8)                 88        \n",
      "_________________________________________________________________\n",
      "dense_41 (Dense)             (None, 1)                 9         \n",
      "=================================================================\n",
      "Total params: 187\n",
      "Trainable params: 187\n",
      "Non-trainable params: 0\n",
      "_________________________________________________________________\n"
     ]
    }
   ],
   "source": [
    "model = Sequential()\n",
    "                                                       # Keras 的 Sequential 模型不用獨立新增輸入層\n",
    "model.add(Dense(10, input_dim=8, activation = \"relu\")) # 隱藏層，10個神經元，8個特徵數(input_dim)，activation啟動函數 relu\n",
    "model.add(Dense(8, activation = \"relu\")) # 隱藏層，8個神經元，activation啟動函數 relu\n",
    "model.add(Dense(1, activation = \"sigmoid\")) # 輸出層，1個神經元，activation啟動函數 sigmoid\n",
    "model.summary()"
   ]
  },
  {
   "cell_type": "code",
   "execution_count": 36,
   "metadata": {
    "collapsed": true
   },
   "outputs": [],
   "source": [
    "model.compile(loss=\"binary_crossentropy\", optimizer=\"sgd\", metrics=[\"accuracy\"])\n",
    "# loss 函數，二元分類sigmoid 使用 binary_crossentropy ，多元分類 softmax 使用 categorical_crossentropy\n",
    "# optimizer 優化器名稱， sgd 為隨機梯度下降法\n",
    "# metrics 訓練合營估模型的評估標準"
   ]
  },
  {
   "cell_type": "code",
   "execution_count": 37,
   "metadata": {},
   "outputs": [
    {
     "name": "stdout",
     "output_type": "stream",
     "text": [
      "Epoch 1/150\n",
      "77/77 [==============================] - 0s 757us/step - loss: 1.4881 - accuracy: 0.6224\n",
      "Epoch 2/150\n",
      "77/77 [==============================] - 0s 808us/step - loss: 0.6743 - accuracy: 0.6458\n",
      "Epoch 3/150\n",
      "77/77 [==============================] - 0s 784us/step - loss: 0.6614 - accuracy: 0.6484\n",
      "Epoch 4/150\n",
      "77/77 [==============================] - 0s 807us/step - loss: 0.6454 - accuracy: 0.6497\n",
      "Epoch 5/150\n",
      "77/77 [==============================] - 0s 860us/step - loss: 0.6467 - accuracy: 0.6549\n",
      "Epoch 6/150\n",
      "77/77 [==============================] - 0s 815us/step - loss: 0.6405 - accuracy: 0.6471\n",
      "Epoch 7/150\n",
      "77/77 [==============================] - 0s 846us/step - loss: 0.6386 - accuracy: 0.6510\n",
      "Epoch 8/150\n",
      "77/77 [==============================] - 0s 835us/step - loss: 0.6360 - accuracy: 0.6536\n",
      "Epoch 9/150\n",
      "77/77 [==============================] - 0s 823us/step - loss: 0.6339 - accuracy: 0.6602\n",
      "Epoch 10/150\n",
      "77/77 [==============================] - 0s 843us/step - loss: 0.6318 - accuracy: 0.6589\n",
      "Epoch 11/150\n",
      "77/77 [==============================] - 0s 839us/step - loss: 0.6309 - accuracy: 0.6549\n",
      "Epoch 12/150\n",
      "77/77 [==============================] - 0s 826us/step - loss: 0.6305 - accuracy: 0.6589\n",
      "Epoch 13/150\n",
      "77/77 [==============================] - 0s 839us/step - loss: 0.6347 - accuracy: 0.6602\n",
      "Epoch 14/150\n",
      "77/77 [==============================] - 0s 828us/step - loss: 0.6332 - accuracy: 0.6628\n",
      "Epoch 15/150\n",
      "77/77 [==============================] - 0s 833us/step - loss: 0.6313 - accuracy: 0.6615\n",
      "Epoch 16/150\n",
      "77/77 [==============================] - 0s 816us/step - loss: 0.6287 - accuracy: 0.6562\n",
      "Epoch 17/150\n",
      "77/77 [==============================] - 0s 836us/step - loss: 0.6303 - accuracy: 0.6602\n",
      "Epoch 18/150\n",
      "77/77 [==============================] - 0s 826us/step - loss: 0.6269 - accuracy: 0.6576\n",
      "Epoch 19/150\n",
      "77/77 [==============================] - 0s 846us/step - loss: 0.6263 - accuracy: 0.6576\n",
      "Epoch 20/150\n",
      "77/77 [==============================] - 0s 819us/step - loss: 0.6275 - accuracy: 0.6497\n",
      "Epoch 21/150\n",
      "77/77 [==============================] - 0s 841us/step - loss: 0.6248 - accuracy: 0.6615\n",
      "Epoch 22/150\n",
      "77/77 [==============================] - 0s 825us/step - loss: 0.6252 - accuracy: 0.6615\n",
      "Epoch 23/150\n",
      "77/77 [==============================] - 0s 816us/step - loss: 0.6204 - accuracy: 0.6615\n",
      "Epoch 24/150\n",
      "77/77 [==============================] - 0s 865us/step - loss: 0.6179 - accuracy: 0.6589\n",
      "Epoch 25/150\n",
      "77/77 [==============================] - 0s 846us/step - loss: 0.6191 - accuracy: 0.6589\n",
      "Epoch 26/150\n",
      "77/77 [==============================] - 0s 835us/step - loss: 0.6143 - accuracy: 0.6602\n",
      "Epoch 27/150\n",
      "77/77 [==============================] - 0s 836us/step - loss: 0.6033 - accuracy: 0.6602\n",
      "Epoch 28/150\n",
      "77/77 [==============================] - 0s 846us/step - loss: 0.6218 - accuracy: 0.6576\n",
      "Epoch 29/150\n",
      "77/77 [==============================] - 0s 815us/step - loss: 0.6162 - accuracy: 0.6628\n",
      "Epoch 30/150\n",
      "77/77 [==============================] - 0s 830us/step - loss: 0.6128 - accuracy: 0.6576\n",
      "Epoch 31/150\n",
      "77/77 [==============================] - 0s 834us/step - loss: 0.6104 - accuracy: 0.6628\n",
      "Epoch 32/150\n",
      "77/77 [==============================] - 0s 817us/step - loss: 0.6136 - accuracy: 0.6615\n",
      "Epoch 33/150\n",
      "77/77 [==============================] - 0s 824us/step - loss: 0.6119 - accuracy: 0.6589\n",
      "Epoch 34/150\n",
      "77/77 [==============================] - 0s 853us/step - loss: 0.6097 - accuracy: 0.6589\n",
      "Epoch 35/150\n",
      "77/77 [==============================] - 0s 844us/step - loss: 0.6120 - accuracy: 0.6549\n",
      "Epoch 36/150\n",
      "77/77 [==============================] - 0s 858us/step - loss: 0.6100 - accuracy: 0.6602\n",
      "Epoch 37/150\n",
      "77/77 [==============================] - 0s 821us/step - loss: 0.6124 - accuracy: 0.6589\n",
      "Epoch 38/150\n",
      "77/77 [==============================] - 0s 848us/step - loss: 0.6099 - accuracy: 0.6615\n",
      "Epoch 39/150\n",
      "77/77 [==============================] - 0s 819us/step - loss: 0.6068 - accuracy: 0.6628\n",
      "Epoch 40/150\n",
      "77/77 [==============================] - 0s 841us/step - loss: 0.6087 - accuracy: 0.6602\n",
      "Epoch 41/150\n",
      "77/77 [==============================] - 0s 841us/step - loss: 0.6071 - accuracy: 0.6641\n",
      "Epoch 42/150\n",
      "77/77 [==============================] - 0s 814us/step - loss: 0.6104 - accuracy: 0.6602\n",
      "Epoch 43/150\n",
      "77/77 [==============================] - 0s 833us/step - loss: 0.6054 - accuracy: 0.6562\n",
      "Epoch 44/150\n",
      "77/77 [==============================] - 0s 821us/step - loss: 0.6110 - accuracy: 0.6576\n",
      "Epoch 45/150\n",
      "77/77 [==============================] - 0s 831us/step - loss: 0.6041 - accuracy: 0.6589\n",
      "Epoch 46/150\n",
      "77/77 [==============================] - 0s 838us/step - loss: 0.6039 - accuracy: 0.6589\n",
      "Epoch 47/150\n",
      "77/77 [==============================] - 0s 813us/step - loss: 0.6043 - accuracy: 0.6576\n",
      "Epoch 48/150\n",
      "77/77 [==============================] - 0s 823us/step - loss: 0.6060 - accuracy: 0.6602\n",
      "Epoch 49/150\n",
      "77/77 [==============================] - 0s 814us/step - loss: 0.6058 - accuracy: 0.6641\n",
      "Epoch 50/150\n",
      "77/77 [==============================] - 0s 830us/step - loss: 0.6006 - accuracy: 0.6615\n",
      "Epoch 51/150\n",
      "77/77 [==============================] - 0s 834us/step - loss: 0.6127 - accuracy: 0.6602\n",
      "Epoch 52/150\n",
      "77/77 [==============================] - 0s 828us/step - loss: 0.6056 - accuracy: 0.6602\n",
      "Epoch 53/150\n",
      "77/77 [==============================] - 0s 864us/step - loss: 0.6027 - accuracy: 0.6615\n",
      "Epoch 54/150\n",
      "77/77 [==============================] - 0s 842us/step - loss: 0.6047 - accuracy: 0.6615\n",
      "Epoch 55/150\n",
      "77/77 [==============================] - 0s 813us/step - loss: 0.6038 - accuracy: 0.6628\n",
      "Epoch 56/150\n",
      "77/77 [==============================] - 0s 811us/step - loss: 0.6016 - accuracy: 0.6615\n",
      "Epoch 57/150\n",
      "77/77 [==============================] - 0s 794us/step - loss: 0.6051 - accuracy: 0.6628\n",
      "Epoch 58/150\n",
      "77/77 [==============================] - 0s 792us/step - loss: 0.5997 - accuracy: 0.6589\n",
      "Epoch 59/150\n",
      "77/77 [==============================] - 0s 773us/step - loss: 0.6015 - accuracy: 0.6602\n",
      "Epoch 60/150\n",
      "77/77 [==============================] - 0s 788us/step - loss: 0.5988 - accuracy: 0.6615\n",
      "Epoch 61/150\n",
      "77/77 [==============================] - 0s 817us/step - loss: 0.6024 - accuracy: 0.6602\n",
      "Epoch 62/150\n",
      "77/77 [==============================] - 0s 778us/step - loss: 0.6050 - accuracy: 0.6602\n",
      "Epoch 63/150\n",
      "77/77 [==============================] - 0s 830us/step - loss: 0.6001 - accuracy: 0.6628\n",
      "Epoch 64/150\n",
      "77/77 [==============================] - 0s 814us/step - loss: 0.6008 - accuracy: 0.6615\n",
      "Epoch 65/150\n",
      "77/77 [==============================] - 0s 758us/step - loss: 0.6038 - accuracy: 0.6615\n",
      "Epoch 66/150\n",
      "77/77 [==============================] - 0s 780us/step - loss: 0.5989 - accuracy: 0.6615\n",
      "Epoch 67/150\n",
      "77/77 [==============================] - 0s 791us/step - loss: 0.5975 - accuracy: 0.6589\n",
      "Epoch 68/150\n",
      "77/77 [==============================] - 0s 788us/step - loss: 0.6033 - accuracy: 0.6641\n",
      "Epoch 69/150\n",
      "77/77 [==============================] - 0s 764us/step - loss: 0.6057 - accuracy: 0.6576\n",
      "Epoch 70/150\n",
      "77/77 [==============================] - 0s 779us/step - loss: 0.6009 - accuracy: 0.6628\n",
      "Epoch 71/150\n",
      "77/77 [==============================] - 0s 792us/step - loss: 0.5988 - accuracy: 0.6615\n",
      "Epoch 72/150\n",
      "77/77 [==============================] - 0s 788us/step - loss: 0.6036 - accuracy: 0.6602\n",
      "Epoch 73/150\n",
      "77/77 [==============================] - 0s 832us/step - loss: 0.5974 - accuracy: 0.6615\n",
      "Epoch 74/150\n",
      "77/77 [==============================] - 0s 783us/step - loss: 0.5996 - accuracy: 0.6602\n",
      "Epoch 75/150\n",
      "77/77 [==============================] - 0s 766us/step - loss: 0.6027 - accuracy: 0.6615\n",
      "Epoch 76/150\n",
      "77/77 [==============================] - 0s 786us/step - loss: 0.5992 - accuracy: 0.6641\n",
      "Epoch 77/150\n",
      "77/77 [==============================] - 0s 773us/step - loss: 0.6029 - accuracy: 0.6641\n",
      "Epoch 78/150\n",
      "77/77 [==============================] - 0s 753us/step - loss: 0.5962 - accuracy: 0.6641\n",
      "Epoch 79/150\n",
      "77/77 [==============================] - 0s 784us/step - loss: 0.6006 - accuracy: 0.6576\n",
      "Epoch 80/150\n",
      "77/77 [==============================] - 0s 780us/step - loss: 0.5984 - accuracy: 0.6615\n",
      "Epoch 81/150\n",
      "77/77 [==============================] - 0s 781us/step - loss: 0.6010 - accuracy: 0.6628\n",
      "Epoch 82/150\n",
      "77/77 [==============================] - 0s 764us/step - loss: 0.5985 - accuracy: 0.6628\n",
      "Epoch 83/150\n",
      "77/77 [==============================] - 0s 780us/step - loss: 0.6027 - accuracy: 0.6615\n",
      "Epoch 84/150\n",
      "77/77 [==============================] - 0s 765us/step - loss: 0.5990 - accuracy: 0.6615\n",
      "Epoch 85/150\n",
      "77/77 [==============================] - 0s 762us/step - loss: 0.6037 - accuracy: 0.6628\n",
      "Epoch 86/150\n",
      "77/77 [==============================] - 0s 776us/step - loss: 0.5982 - accuracy: 0.6615\n",
      "Epoch 87/150\n",
      "77/77 [==============================] - 0s 791us/step - loss: 0.6029 - accuracy: 0.6628\n",
      "Epoch 88/150\n",
      "77/77 [==============================] - 0s 789us/step - loss: 0.5957 - accuracy: 0.6589\n",
      "Epoch 89/150\n",
      "77/77 [==============================] - 0s 788us/step - loss: 0.6046 - accuracy: 0.6615\n",
      "Epoch 90/150\n",
      "77/77 [==============================] - 0s 771us/step - loss: 0.6004 - accuracy: 0.6615\n",
      "Epoch 91/150\n",
      "77/77 [==============================] - 0s 786us/step - loss: 0.5914 - accuracy: 0.6628\n",
      "Epoch 92/150\n",
      "77/77 [==============================] - 0s 789us/step - loss: 0.5976 - accuracy: 0.6615\n",
      "Epoch 93/150\n",
      "77/77 [==============================] - 0s 754us/step - loss: 0.5935 - accuracy: 0.6602\n",
      "Epoch 94/150\n",
      "77/77 [==============================] - 0s 801us/step - loss: 0.5996 - accuracy: 0.6615\n",
      "Epoch 95/150\n",
      "77/77 [==============================] - 0s 760us/step - loss: 0.6011 - accuracy: 0.6628\n",
      "Epoch 96/150\n",
      "77/77 [==============================] - 0s 775us/step - loss: 0.6003 - accuracy: 0.6628\n",
      "Epoch 97/150\n",
      "77/77 [==============================] - 0s 777us/step - loss: 0.5996 - accuracy: 0.6628\n",
      "Epoch 98/150\n",
      "77/77 [==============================] - 0s 793us/step - loss: 0.5949 - accuracy: 0.6628\n",
      "Epoch 99/150\n",
      "77/77 [==============================] - 0s 771us/step - loss: 0.5984 - accuracy: 0.6628\n",
      "Epoch 100/150\n",
      "77/77 [==============================] - 0s 786us/step - loss: 0.5960 - accuracy: 0.6628\n",
      "Epoch 101/150\n",
      "77/77 [==============================] - 0s 781us/step - loss: 0.5981 - accuracy: 0.6628\n",
      "Epoch 102/150\n",
      "77/77 [==============================] - 0s 773us/step - loss: 0.5991 - accuracy: 0.6628\n",
      "Epoch 103/150\n",
      "77/77 [==============================] - 0s 784us/step - loss: 0.5992 - accuracy: 0.6628\n",
      "Epoch 104/150\n",
      "77/77 [==============================] - 0s 818us/step - loss: 0.6004 - accuracy: 0.6615\n",
      "Epoch 105/150\n",
      "77/77 [==============================] - 0s 826us/step - loss: 0.5963 - accuracy: 0.6602\n",
      "Epoch 106/150\n",
      "77/77 [==============================] - 0s 797us/step - loss: 0.6008 - accuracy: 0.6641\n",
      "Epoch 107/150\n",
      "77/77 [==============================] - 0s 740us/step - loss: 0.5966 - accuracy: 0.6589\n",
      "Epoch 108/150\n",
      "77/77 [==============================] - 0s 768us/step - loss: 0.5955 - accuracy: 0.6602\n",
      "Epoch 109/150\n",
      "77/77 [==============================] - 0s 786us/step - loss: 0.6035 - accuracy: 0.6615\n",
      "Epoch 110/150\n",
      "77/77 [==============================] - 0s 769us/step - loss: 0.5950 - accuracy: 0.6667\n",
      "Epoch 111/150\n",
      "77/77 [==============================] - 0s 776us/step - loss: 0.6056 - accuracy: 0.6615\n",
      "Epoch 112/150\n",
      "77/77 [==============================] - 0s 793us/step - loss: 0.5988 - accuracy: 0.6628\n",
      "Epoch 113/150\n",
      "77/77 [==============================] - 0s 807us/step - loss: 0.5942 - accuracy: 0.6628\n",
      "Epoch 114/150\n",
      "77/77 [==============================] - 0s 801us/step - loss: 0.5976 - accuracy: 0.6602\n",
      "Epoch 115/150\n",
      "77/77 [==============================] - 0s 787us/step - loss: 0.5963 - accuracy: 0.6602\n",
      "Epoch 116/150\n",
      "77/77 [==============================] - 0s 782us/step - loss: 0.5998 - accuracy: 0.6615\n",
      "Epoch 117/150\n",
      "77/77 [==============================] - 0s 781us/step - loss: 0.5954 - accuracy: 0.6615\n",
      "Epoch 118/150\n",
      "77/77 [==============================] - 0s 763us/step - loss: 0.5990 - accuracy: 0.6628\n",
      "Epoch 119/150\n",
      "77/77 [==============================] - 0s 832us/step - loss: 0.6003 - accuracy: 0.6628\n",
      "Epoch 120/150\n",
      "77/77 [==============================] - 0s 806us/step - loss: 0.6013 - accuracy: 0.6641\n",
      "Epoch 121/150\n",
      "77/77 [==============================] - 0s 783us/step - loss: 0.5948 - accuracy: 0.6615\n",
      "Epoch 122/150\n",
      "77/77 [==============================] - 0s 789us/step - loss: 0.5946 - accuracy: 0.6641\n",
      "Epoch 123/150\n",
      "77/77 [==============================] - 0s 774us/step - loss: 0.5975 - accuracy: 0.6641\n",
      "Epoch 124/150\n",
      "77/77 [==============================] - 0s 783us/step - loss: 0.5990 - accuracy: 0.6654\n",
      "Epoch 125/150\n",
      "77/77 [==============================] - 0s 770us/step - loss: 0.5969 - accuracy: 0.6628\n",
      "Epoch 126/150\n",
      "77/77 [==============================] - 0s 788us/step - loss: 0.5939 - accuracy: 0.6615\n",
      "Epoch 127/150\n",
      "77/77 [==============================] - 0s 785us/step - loss: 0.5957 - accuracy: 0.6628\n",
      "Epoch 128/150\n",
      "77/77 [==============================] - 0s 773us/step - loss: 0.5946 - accuracy: 0.6641\n",
      "Epoch 129/150\n",
      "77/77 [==============================] - 0s 765us/step - loss: 0.5982 - accuracy: 0.6641\n",
      "Epoch 130/150\n",
      "77/77 [==============================] - 0s 771us/step - loss: 0.5950 - accuracy: 0.6641\n",
      "Epoch 131/150\n",
      "77/77 [==============================] - 0s 786us/step - loss: 0.5958 - accuracy: 0.6615\n",
      "Epoch 132/150\n",
      "77/77 [==============================] - 0s 775us/step - loss: 0.5967 - accuracy: 0.6615\n",
      "Epoch 133/150\n",
      "77/77 [==============================] - 0s 782us/step - loss: 0.5972 - accuracy: 0.6628\n",
      "Epoch 134/150\n",
      "77/77 [==============================] - 0s 809us/step - loss: 0.5983 - accuracy: 0.6641\n",
      "Epoch 135/150\n",
      "77/77 [==============================] - 0s 787us/step - loss: 0.5979 - accuracy: 0.6615\n",
      "Epoch 136/150\n",
      "77/77 [==============================] - 0s 767us/step - loss: 0.5885 - accuracy: 0.6641\n",
      "Epoch 137/150\n",
      "77/77 [==============================] - 0s 772us/step - loss: 0.5941 - accuracy: 0.6641\n",
      "Epoch 138/150\n",
      "77/77 [==============================] - 0s 798us/step - loss: 0.5968 - accuracy: 0.6615\n",
      "Epoch 139/150\n",
      "77/77 [==============================] - 0s 780us/step - loss: 0.6013 - accuracy: 0.6628\n",
      "Epoch 140/150\n",
      "77/77 [==============================] - 0s 762us/step - loss: 0.5951 - accuracy: 0.6615\n",
      "Epoch 141/150\n",
      "77/77 [==============================] - 0s 795us/step - loss: 0.5955 - accuracy: 0.6615\n",
      "Epoch 142/150\n",
      "77/77 [==============================] - 0s 780us/step - loss: 0.5973 - accuracy: 0.6615\n",
      "Epoch 143/150\n",
      "77/77 [==============================] - 0s 734us/step - loss: 0.5970 - accuracy: 0.6628\n",
      "Epoch 144/150\n",
      "77/77 [==============================] - 0s 775us/step - loss: 0.5939 - accuracy: 0.6628\n",
      "Epoch 145/150\n",
      "77/77 [==============================] - 0s 792us/step - loss: 0.5960 - accuracy: 0.6654\n",
      "Epoch 146/150\n",
      "77/77 [==============================] - 0s 777us/step - loss: 0.5895 - accuracy: 0.6628\n",
      "Epoch 147/150\n",
      "77/77 [==============================] - 0s 782us/step - loss: 0.5910 - accuracy: 0.6628\n",
      "Epoch 148/150\n",
      "77/77 [==============================] - 0s 794us/step - loss: 0.5940 - accuracy: 0.6602\n",
      "Epoch 149/150\n",
      "77/77 [==============================] - 0s 797us/step - loss: 0.5922 - accuracy: 0.6628\n",
      "Epoch 150/150\n",
      "77/77 [==============================] - 0s 760us/step - loss: 0.5981 - accuracy: 0.6615\n"
     ]
    },
    {
     "data": {
      "text/plain": [
       "<tensorflow.python.keras.callbacks.History at 0x1ca21a1c860>"
      ]
     },
     "execution_count": 37,
     "metadata": {},
     "output_type": "execute_result"
    }
   ],
   "source": [
    "model.fit(X,Y,epochs=150,batch_size=10)"
   ]
  },
  {
   "cell_type": "code",
   "execution_count": 38,
   "metadata": {},
   "outputs": [
    {
     "name": "stdout",
     "output_type": "stream",
     "text": [
      "準確度 = 0.66\n"
     ]
    }
   ],
   "source": [
    "loss, accuracy = model.evaluate(X, Y, verbose = 0) # verbose = 0 不顯示進度列的執行結果\n",
    "print(\"準確度 = {:.2f}\".format(accuracy))"
   ]
  },
  {
   "cell_type": "markdown",
   "metadata": {},
   "source": [
    "## <font color=red>調整神經網路</font>"
   ]
  },
  {
   "cell_type": "markdown",
   "metadata": {},
   "source": [
    "### <font color=blue>1.特徵標準化</font>\n",
    "特徵標準化後，準確度提昇不少"
   ]
  },
  {
   "cell_type": "code",
   "execution_count": 39,
   "metadata": {},
   "outputs": [
    {
     "name": "stdout",
     "output_type": "stream",
     "text": [
      "準確度 = 0.80\n"
     ]
    }
   ],
   "source": [
    "np.random.seed(10)  # 指定亂數種子\n",
    "\n",
    "df = pd.read_csv(\"diabetes.csv\")\n",
    "dataset = df.values\n",
    "np.random.shuffle(dataset)  \n",
    "\n",
    "X = dataset[:, 0:8]\n",
    "Y = dataset[:, 8]\n",
    "X -= X.mean(axis=0) # 特徵標準化\n",
    "X /= X.std(axis=0)\n",
    "\n",
    "model = Sequential()\n",
    "model.add(Dense(10, input_dim = 8, activation = \"relu\"))\n",
    "model.add(Dense(8, activation = \"relu\"))\n",
    "model.add(Dense(1, activation = \"sigmoid\"))\n",
    "model.compile(loss=\"binary_crossentropy\", optimizer=\"sgd\", metrics=[\"accuracy\"])\n",
    "\n",
    "\n",
    "model.fit(X,Y,epochs=150,batch_size=10,verbose=0)\n",
    "loss, accuracy = model.evaluate(X, Y, verbose = 0) \n",
    "print(\"準確度 = {:.2f}\".format(accuracy))\n"
   ]
  },
  {
   "cell_type": "markdown",
   "metadata": {},
   "source": [
    "### <font color=blue>2.輸出層使用 softmax 啟動函數</font>\n",
    "二元分類也可以使用 softmax 啟動函數，此時輸出層unit須改為 2 ，標籤資料也須執行 One-hot 編碼\n",
    "\n",
    "使用結果與特徵標準化對於準確度的提升並無差異"
   ]
  },
  {
   "cell_type": "code",
   "execution_count": 40,
   "metadata": {},
   "outputs": [
    {
     "name": "stdout",
     "output_type": "stream",
     "text": [
      "24/24 [==============================] - 0s 1ms/step - loss: 0.4218 - accuracy: 0.7982\n",
      "準確度 = 0.80\n"
     ]
    }
   ],
   "source": [
    "from tensorflow.keras.utils import to_categorical\n",
    "\n",
    "np.random.seed(10)  # 指定亂數種子\n",
    "\n",
    "df = pd.read_csv(\"diabetes.csv\")\n",
    "dataset = df.values\n",
    "np.random.shuffle(dataset)  \n",
    "\n",
    "X = dataset[:, 0:8]\n",
    "Y = dataset[:, 8]\n",
    "\n",
    "X -= X.mean(axis=0)\n",
    "X /= X.std(axis=0)\n",
    "Y = to_categorical(Y) # 標籤資料執行 One-hot 編碼\n",
    "\n",
    "model = Sequential()\n",
    "model.add(Dense(10, input_dim = 8, activation = \"relu\"))\n",
    "model.add(Dense(8, activation = \"relu\"))\n",
    "model.add(Dense(2, activation = \"softmax\")) # 使用 softmax 啟動函數\n",
    "\n",
    "model.compile(loss=\"binary_crossentropy\", optimizer=\"sgd\", metrics=[\"accuracy\"])\n",
    "\n",
    "model.fit(X, Y, epochs = 150, batch_size = 10, verbose = 0)\n",
    "loss, accuracy = model.evaluate(X, Y)\n",
    "print(\"準確度 = {:.2f}\".format(accuracy))"
   ]
  },
  {
   "cell_type": "markdown",
   "metadata": {
    "collapsed": true
   },
   "source": [
    "### <font color=blue>3.在神經層使用權重初始器 </font>\n",
    "使用結果對於準確度的提昇沒有明顯的幫助 "
   ]
  },
  {
   "cell_type": "code",
   "execution_count": 41,
   "metadata": {},
   "outputs": [
    {
     "name": "stdout",
     "output_type": "stream",
     "text": [
      "24/24 [==============================] - 0s 1ms/step - loss: 0.4518 - accuracy: 0.7839\n",
      "準確度 = 0.78\n"
     ]
    }
   ],
   "source": [
    "df = pd.read_csv(\"diabetes.csv\")\n",
    "dataset = df.values\n",
    "\n",
    "X = dataset[:,0:8]\n",
    "Y = dataset[:,8]\n",
    "\n",
    "X -= X.mean(axis=0)\n",
    "X /= X.std(axis=0)\n",
    "Y = to_categorical(Y)\n",
    "\n",
    "model = Sequential()\n",
    "model.add(Dense(10, input_dim=8, kernel_initializer = \"random_uniform\", bias_initializer= \"ones\", activation=\"relu\"))\n",
    "model.add(Dense(8,kernel_initializer = \"random_uniform\", bias_initializer= \"ones\", activation=\"relu\"))\n",
    "model.add(Dense(2,kernel_initializer = \"random_uniform\", bias_initializer= \"ones\", activation=\"softmax\"))\n",
    "# bias_initializer= \"ones\" ，全部初始為 1，zeeos ：全部初始為 0\n",
    "# kernel_initializer = \"random_uniform\"，均勻分配的隨機亂數，random_nomal ：常態分配的隨機亂數\n",
    "model.compile(loss = \"binary_crossentropy\", optimizer = \"sgd\", metrics=[\"accuracy\"])\n",
    "\n",
    "model.fit(X, Y, epochs=150, batch_size=10, verbose=0)\n",
    "loss, accuracy = model.evaluate(X, Y)\n",
    "print(\"準確度 = {:.2f}\".format(accuracy))"
   ]
  },
  {
   "cell_type": "markdown",
   "metadata": {},
   "source": [
    "### <font color=blue>4.在編譯模型使用 adam 優化器</font>\n",
    "對於準確度有些微的提升"
   ]
  },
  {
   "cell_type": "code",
   "execution_count": 42,
   "metadata": {},
   "outputs": [
    {
     "name": "stdout",
     "output_type": "stream",
     "text": [
      "24/24 [==============================] - 0s 1ms/step - loss: 0.3947 - accuracy: 0.8203\n",
      "準確度 = 0.82\n"
     ]
    }
   ],
   "source": [
    "np.random.seed(10)  # 指定亂數種子\n",
    "\n",
    "df = pd.read_csv(\"diabetes.csv\")\n",
    "dataset = df.values\n",
    "np.random.shuffle(dataset)  \n",
    "\n",
    "X = dataset[:, 0:8]\n",
    "Y = dataset[:, 8]\n",
    "\n",
    "X -= X.mean(axis=0)\n",
    "X /= X.std(axis=0)\n",
    "Y = to_categorical(Y) # 標籤資料執行 One-hot 編碼\n",
    "\n",
    "model = Sequential()\n",
    "model.add(Dense(10, input_dim = 8, activation = \"relu\"))\n",
    "model.add(Dense(8, activation = \"relu\"))\n",
    "model.add(Dense(2, activation = \"softmax\")) # 使用 softmax 啟動函數\n",
    "\n",
    "model.compile(loss=\"binary_crossentropy\", optimizer=\"adam\", metrics=[\"accuracy\"]) # 優化器(optimizer)使用 adam \n",
    "\n",
    "model.fit(X, Y, epochs = 150, batch_size = 10, verbose = 0)\n",
    "loss, accuracy = model.evaluate(X, Y)\n",
    "print(\"準確度 = {:.2f}\".format(accuracy))"
   ]
  },
  {
   "cell_type": "markdown",
   "metadata": {},
   "source": [
    "### <font color=blue>5.減少網路神經的參數量</font>\n",
    "資料集樣本數不多的情況下，可以縮小神經網路的尺寸來改進效能，對於準確度有些微的提升"
   ]
  },
  {
   "cell_type": "code",
   "execution_count": 43,
   "metadata": {},
   "outputs": [
    {
     "name": "stdout",
     "output_type": "stream",
     "text": [
      "24/24 [==============================] - 0s 864us/step - loss: 0.3736 - accuracy: 0.8229\n",
      "準確度 = 0.82\n",
      "Model: \"sequential_18\"\n",
      "_________________________________________________________________\n",
      "Layer (type)                 Output Shape              Param #   \n",
      "=================================================================\n",
      "dense_54 (Dense)             (None, 10)                90        \n",
      "_________________________________________________________________\n",
      "dense_55 (Dense)             (None, 6)                 66        \n",
      "_________________________________________________________________\n",
      "dense_56 (Dense)             (None, 2)                 14        \n",
      "=================================================================\n",
      "Total params: 170\n",
      "Trainable params: 170\n",
      "Non-trainable params: 0\n",
      "_________________________________________________________________\n"
     ]
    }
   ],
   "source": [
    "np.random.seed(10)  # 指定亂數種子\n",
    "\n",
    "df = pd.read_csv(\"diabetes.csv\")\n",
    "dataset = df.values\n",
    "np.random.shuffle(dataset)  \n",
    "\n",
    "X = dataset[:, 0:8]\n",
    "Y = dataset[:, 8]\n",
    "\n",
    "X -= X.mean(axis=0)\n",
    "X /= X.std(axis=0)\n",
    "Y = to_categorical(Y) # 標籤資料執行 One-hot 編碼\n",
    "\n",
    "model = Sequential()\n",
    "model.add(Dense(10, input_dim = 8, activation = \"relu\"))\n",
    "model.add(Dense(6, activation = \"relu\"))\n",
    "model.add(Dense(2, activation = \"softmax\")) # 使用 softmax 啟動函數\n",
    "\n",
    "model.compile(loss=\"binary_crossentropy\", optimizer=\"adam\", metrics=[\"accuracy\"]) # 優化器(optimizer)使用 adam \n",
    "\n",
    "model.fit(X, Y, epochs = 150, batch_size = 10, verbose = 0)\n",
    "loss, accuracy = model.evaluate(X, Y)\n",
    "print(\"準確度 = {:.2f}\".format(accuracy))\n",
    "model.summary()"
   ]
  },
  {
   "cell_type": "markdown",
   "metadata": {
    "collapsed": true
   },
   "source": [
    "## <font color=red>訓練模型的調整</font>\n",
    "將資料切割成訓練與測試資料\n",
    "\n",
    "結果發現，測試集準確度明顯比訓練集的低很多，有 overfitting 的現象"
   ]
  },
  {
   "cell_type": "code",
   "execution_count": 44,
   "metadata": {},
   "outputs": [
    {
     "name": "stdout",
     "output_type": "stream",
     "text": [
      "22/22 [==============================] - 0s 1ms/step - loss: 0.3688 - accuracy: 0.8246\n",
      "訓練集的準確度 = 0.82\n",
      "3/3 [==============================] - 0s 1ms/step - loss: 0.5823 - accuracy: 0.7308\n",
      "測試集的準確度 = 0.73\n"
     ]
    }
   ],
   "source": [
    "df = pd.read_csv(\"diabetes.csv\")\n",
    "dataset = df.values\n",
    "np.random.shuffle(dataset) \n",
    "\n",
    "X = dataset[:, 0:8]\n",
    "Y = dataset[:, 8]\n",
    "\n",
    "X -= X.mean(axis=0)\n",
    "X /= X.std(axis=0)\n",
    "Y = to_categorical(Y)\n",
    "\n",
    "X_train, Y_train = X[:690], Y[:690]\n",
    "X_test, Y_test = X[690:], Y[690:]\n",
    "\n",
    "model = Sequential()\n",
    "model.add(Dense(10, input_shape=(8,), activation=\"relu\"))\n",
    "model.add(Dense(6, activation=\"relu\"))\n",
    "model.add(Dense(2, activation=\"softmax\"))\n",
    "\n",
    "model.compile(loss=\"binary_crossentropy\", optimizer=\"adam\", \n",
    "              metrics=[\"accuracy\"])\n",
    "\n",
    "model.fit(X_train, Y_train, epochs = 150, batch_size = 10, verbose = 0)\n",
    "loss, accuracy = model.evaluate(X_train, Y_train)\n",
    "print(\"訓練集的準確度 = {:.2f}\".format(accuracy))\n",
    "loss, accuracy = model.evaluate(X_test, Y_test)\n",
    "print(\"測試集的準確度 = {:.2f}\".format(accuracy))\n"
   ]
  },
  {
   "cell_type": "markdown",
   "metadata": {},
   "source": [
    "### <font color=blue>1.使用驗證資料</font>\n",
    "在訓練模型時使用驗證資料集，將原先的訓練資料切割一部分出來當驗證資料\n",
    "\n",
    "結果發現，測試集準確度有提升"
   ]
  },
  {
   "cell_type": "code",
   "execution_count": 66,
   "metadata": {},
   "outputs": [
    {
     "name": "stdout",
     "output_type": "stream",
     "text": [
      "22/22 [==============================] - 0s 1ms/step - loss: 0.4278 - accuracy: 0.7971\n",
      "訓練集的準確度 = 0.80\n",
      "3/3 [==============================] - 0s 2ms/step - loss: 0.4544 - accuracy: 0.7564\n",
      "測試集的準確度 = 0.76\n"
     ]
    }
   ],
   "source": [
    "df = pd.read_csv(\"diabetes.csv\")\n",
    "dataset = df.values\n",
    "np.random.shuffle(dataset) \n",
    "\n",
    "X = dataset[:, 0:8]\n",
    "Y = dataset[:, 8]\n",
    "\n",
    "X -= X.mean(axis=0)\n",
    "X /= X.std(axis=0)\n",
    "Y = to_categorical(Y)\n",
    "\n",
    "X_train, Y_train = X[:690], Y[:690]\n",
    "X_test, Y_test = X[690:], Y[690:]\n",
    "\n",
    "model = Sequential()\n",
    "model.add(Dense(10, input_shape=(8,), activation=\"relu\"))\n",
    "model.add(Dense(6, activation=\"relu\"))\n",
    "model.add(Dense(2, activation=\"softmax\"))\n",
    "\n",
    "model.compile(loss=\"binary_crossentropy\", optimizer=\"adam\", \n",
    "              metrics=[\"accuracy\"])\n",
    "\n",
    "history = model.fit(X_train1, Y_train1, validation_split = 0.2, epochs = 150, batch_size = 10, verbose = 0) \n",
    "# 使用 validation_split = 0.2 自動將訓練資料切割\n",
    "loss, accuracy = model.evaluate(X_train, Y_train)\n",
    "\n",
    "\n",
    "print(\"訓練集的準確度 = {:.2f}\".format(accuracy))\n",
    "loss, accuracy = model.evaluate(X_test, Y_test)\n",
    "print(\"測試集的準確度 = {:.2f}\".format(accuracy))\n"
   ]
  },
  {
   "cell_type": "markdown",
   "metadata": {
    "collapsed": true
   },
   "source": [
    "### <font color=blue>2.尋找最佳訓練週期</font>\n",
    "透過圖表分析發現，驗證資料約在第10次左右的訓練週期，loss 就沒有再減少，爾後再多的訓練週期 loss 逐漸提升，此即表示執行在多次的訓練週期只會讓模型更佳的 overfitting。"
   ]
  },
  {
   "cell_type": "code",
   "execution_count": 70,
   "metadata": {},
   "outputs": [
    {
     "data": {
      "image/png": "[encoded data removed]",
      "text/plain": [
       "<Figure size 432x288 with 1 Axes>"
      ]
     },
     "metadata": {},
     "output_type": "display_data"
    }
   ],
   "source": [
    "import matplotlib.pyplot as plt\n",
    "\n",
    "loss = history.history[\"loss\"]\n",
    "val_loss = history.history[\"val_loss\"]\n",
    "epochs = range(1, len(loss)+1)\n",
    "\n",
    "plt.plot(epochs, loss, \"b-\", label = \"Training loss\")\n",
    "plt.plot(epochs, val_loss , \"r\", label = \"Validation loss\")\n",
    "plt.xlabel(\"Epochs\")\n",
    "plt.ylabel(\"Loss\")\n",
    "plt.title(\"Training loss and Validation los\")\n",
    "plt.legend()\n",
    "plt.show()"
   ]
  },
  {
   "cell_type": "code",
   "execution_count": 71,
   "metadata": {},
   "outputs": [
    {
     "data": {
      "image/png": "[encoded data removed]",
      "text/plain": [
       "<Figure size 432x288 with 1 Axes>"
      ]
     },
     "metadata": {},
     "output_type": "display_data"
    }
   ],
   "source": [
    "import matplotlib.pyplot as plt\n",
    "\n",
    "acc = history.history[\"accuracy\"]\n",
    "val_acc = history.history[\"val_accuracy\"]\n",
    "epochs = range(1, len(loss)+1)\n",
    "\n",
    "plt.plot(epochs, acc, \"g-\", label = \"Training accuracy\")\n",
    "plt.plot(epochs, val_acc , \"r-\", label = \"Validation accuracy\")\n",
    "plt.xlabel(\"Epochs\")\n",
    "plt.ylabel(\"accuracy\")\n",
    "plt.title(\"Training accuracy and Validation accuracy\")\n",
    "plt.legend()\n",
    "plt.show()"
   ]
  },
  {
   "cell_type": "markdown",
   "metadata": {},
   "source": [
    "### <font color=blue>3.修改訓練週期(epochs)</font>\n",
    "將 epochs 改成 10 後，驗證資料的 loss 幾乎是持平，只是和訓練集的 loss 仍有一些差距，表示有輕度的 overfitting，但已大幅改善。"
   ]
  },
  {
   "cell_type": "code",
   "execution_count": 76,
   "metadata": {},
   "outputs": [
    {
     "name": "stdout",
     "output_type": "stream",
     "text": [
      "22/22 [==============================] - 0s 1ms/step - loss: 0.5183 - accuracy: 0.7594\n",
      "訓練集的準確度 = 0.76\n",
      "3/3 [==============================] - 0s 2ms/step - loss: 0.5005 - accuracy: 0.7821\n",
      "測試集的準確度 = 0.78\n"
     ]
    }
   ],
   "source": [
    "df = pd.read_csv(\"diabetes.csv\")\n",
    "dataset = df.values\n",
    "np.random.shuffle(dataset) \n",
    "\n",
    "X = dataset[:, 0:8]\n",
    "Y = dataset[:, 8]\n",
    "\n",
    "X -= X.mean(axis=0)\n",
    "X /= X.std(axis=0)\n",
    "Y = to_categorical(Y)\n",
    "\n",
    "X_train, Y_train = X[:690], Y[:690]\n",
    "X_test, Y_test = X[690:], Y[690:]\n",
    "\n",
    "model = Sequential()\n",
    "model.add(Dense(10, input_shape=(8,), activation=\"relu\"))\n",
    "model.add(Dense(6, activation=\"relu\"))\n",
    "model.add(Dense(2, activation=\"softmax\"))\n",
    "\n",
    "model.compile(loss=\"binary_crossentropy\", optimizer=\"adam\", \n",
    "              metrics=[\"accuracy\"])\n",
    "\n",
    "history = model.fit(X_train, Y_train, validation_split = 0.2, epochs = 10, batch_size = 10, verbose = 0) \n",
    "loss, accuracy = model.evaluate(X_train, Y_train)\n",
    "\n",
    "print(\"訓練集的準確度 = {:.2f}\".format(accuracy))\n",
    "loss, accuracy = model.evaluate(X_test, Y_test)\n",
    "print(\"測試集的準確度 = {:.2f}\".format(accuracy))\n"
   ]
  },
  {
   "cell_type": "code",
   "execution_count": 77,
   "metadata": {},
   "outputs": [
    {
     "data": {
      "image/png": "[encoded data removed]",
      "text/plain": [
       "<Figure size 432x288 with 1 Axes>"
      ]
     },
     "metadata": {},
     "output_type": "display_data"
    }
   ],
   "source": [
    "import matplotlib.pyplot as plt\n",
    "\n",
    "loss = history.history[\"loss\"]\n",
    "val_loss = history.history[\"val_loss\"]\n",
    "epochs = range(1, len(loss)+1)\n",
    "\n",
    "plt.plot(epochs, loss, \"bo\", label = \"Training loss\")\n",
    "plt.plot(epochs, val_loss , \"r\", label = \"Validation loss\")\n",
    "plt.xlabel(\"Epochs\")\n",
    "plt.ylabel(\"Loss\")\n",
    "plt.title(\"Training loss and Validation los\")\n",
    "plt.legend()\n",
    "plt.show()"
   ]
  },
  {
   "cell_type": "markdown",
   "metadata": {
    "collapsed": true
   },
   "source": [
    "## <font color=red>模型的預測值</font>"
   ]
  },
  {
   "cell_type": "code",
   "execution_count": 94,
   "metadata": {},
   "outputs": [
    {
     "name": "stdout",
     "output_type": "stream",
     "text": [
      "22/22 [==============================] - 0s 817us/step - loss: 0.4419 - accuracy: 0.7855\n",
      "訓練集準確度 = 0.79\n",
      "3/3 [==============================] - 0s 1ms/step - loss: 0.4995 - accuracy: 0.7692\n",
      "訓練集準確度 = 0.77\n",
      "8/8 - 0s\n",
      "[0] [1]\n"
     ]
    },
    {
     "name": "stderr",
     "output_type": "stream",
     "text": [
      "C:\\Users\\user\\AppData\\Roaming\\Python\\Python36\\site-packages\\tensorflow\\python\\keras\\engine\\sequential.py:455: UserWarning: `model.predict_classes()` is deprecated and will be removed after 2021-01-01. Please use instead:* `np.argmax(model.predict(x), axis=-1)`,   if your model does multi-class classification   (e.g. if it uses a `softmax` last-layer activation).* `(model.predict(x) > 0.5).astype(\"int32\")`,   if your model does binary classification   (e.g. if it uses a `sigmoid` last-layer activation).\n",
      "  warnings.warn('`model.predict_classes()` is deprecated and '\n"
     ]
    }
   ],
   "source": [
    "from tensorflow.keras.models import Sequential\n",
    "from tensorflow.keras.layers import Dense\n",
    "from tensorflow.keras.utils import to_categorical\n",
    "\n",
    "df = pd.read_csv(\"diabetes.csv\")\n",
    "dataset = df.values\n",
    "X = dataset[:,0:8]\n",
    "Y = dataset[:,8]\n",
    "\n",
    "X -= X.mean(axis=0)\n",
    "X /= X.std(axis=0)\n",
    "#Y = to_categorical(Y)，activation = \"softmax\" 時可以使用\n",
    "\n",
    "X_train, Y_train = X[:690], Y[:690]\n",
    "X_test, Y_test = X[690:], Y[690:]\n",
    "\n",
    "model = Sequential()\n",
    "model.add(Dense(8, input_dim = 8, activation= \"relu\"))\n",
    "model.add(Dense(8,activation = \"relu\"))\n",
    "model.add(Dense(1,activation = \"sigmoid\"))\n",
    "\n",
    "model.compile(loss=\"binary_crossentropy\", optimizer=\"adam\", metrics = [\"accuracy\"])\n",
    "# model.compile(loss=\"binary_crossentropy\", optimizer=\"adam\", metrics=  [\"accuracy\"])\n",
    "\n",
    "\n",
    "model.fit(X_train, Y_train, epochs = 10, batch_size = 10, verbose = 0)\n",
    "#\n",
    "model.fit(X_train, Y_train, epochs=10,   batch_size=10, verbose=0)\n",
    "\n",
    "loss, accuracy = model.evaluate(X_train, Y_train)\n",
    "print(\"訓練集準確度 = {:.2F}\".format(accuracy))\n",
    "loss, accuracy = model.evaluate(X_test, Y_test)\n",
    "print(\"訓練集準確度 = {:.2F}\".format(accuracy))\n",
    "\n",
    "Y_pred = model.predict_classes(X_test, batch_size = 10, verbose = 2)\n",
    "# Y_pred = model.predict(X_test, batch_size=10, verbose=0) 預測機率值\n",
    "\n",
    "print(Y_pred[0], Y_pred[1])"
   ]
  }
 ],
 "metadata": {
  "kernelspec": {
   "display_name": "Python 3",
   "language": "python",
   "name": "python3"
  },
  "language_info": {
   "codemirror_mode": {
    "name": "ipython",
    "version": 3
   },
   "file_extension": ".py",
   "mimetype": "text/x-python",
   "name": "python",
   "nbconvert_exporter": "python",
   "pygments_lexer": "ipython3",
   "version": "3.6.3"
  }
 },
 "nbformat": 4,
 "nbformat_minor": 2
}
