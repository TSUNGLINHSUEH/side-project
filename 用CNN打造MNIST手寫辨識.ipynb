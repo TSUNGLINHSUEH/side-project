{
 "cells": [
  {
   "cell_type": "markdown",
   "metadata": {},
   "source": [
    "### CNN 資料預處理\n",
    "\n",
    "* 將特徵資料 (樣本數, 28, 28) 形狀轉換成 4D 張量 (樣本數, 28, 28, 1)\n",
    "* 執行特徵標準化的正規劃\n",
    "* 將標籤資料執行 one-hot 編碼"
   ]
  },
  {
   "cell_type": "code",
   "execution_count": 10,
   "metadata": {},
   "outputs": [
    {
     "name": "stdout",
     "output_type": "stream",
     "text": [
      "X_train shape : (60000, 28, 28, 1)\n",
      "X_test shape : (10000, 28, 28, 1)\n"
     ]
    }
   ],
   "source": [
    "from tensorflow.keras.models import Sequential\n",
    "from tensorflow.keras.layers import Dense\n",
    "from tensorflow.keras.layers import Conv2D\n",
    "from tensorflow.keras.layers import MaxPooling2D\n",
    "from tensorflow.keras.layers import Dropout\n",
    "from tensorflow.keras.layers import Flatten\n",
    "from tensorflow.keras.utils import to_categorical\n",
    "import numpy as np\n",
    "from tensorflow.keras.datasets import mnist\n",
    "\n",
    "seed = 7\n",
    "np.random.seed(seed)\n",
    "\n",
    "(X_train, Y_train), (X_test, Y_test) = mnist.load_data()\n",
    "X_train = X_train.reshape(X_train.shape[0], 28, 28, 1).astype(\"float32\")\n",
    "X_test = X_test.reshape(X_test.shape[0], 28, 28, 1)\n",
    "print(f\"X_train shape : {X_train.shape}\")\n",
    "print(f\"X_test shape : {X_test.shape}\")\n"
   ]
  },
  {
   "cell_type": "code",
   "execution_count": 11,
   "metadata": {},
   "outputs": [
    {
     "name": "stdout",
     "output_type": "stream",
     "text": [
      "[]\n"
     ]
    }
   ],
   "source": [
    "X_train = X_train / 255\n",
    "X_test = X_test / 255\n",
    "print(X_train[0][150:175])"
   ]
  },
  {
   "cell_type": "code",
   "execution_count": 12,
   "metadata": {},
   "outputs": [
    {
     "name": "stdout",
     "output_type": "stream",
     "text": [
      "Y_train shape : (60000, 10)\n"
     ]
    }
   ],
   "source": [
    "Y_train = to_categorical(Y_train)\n",
    "Y_test = to_categorical(Y_test)\n",
    "print(f\"Y_train shape : {Y_train.shape}\")"
   ]
  },
  {
   "cell_type": "markdown",
   "metadata": {},
   "source": [
    "### 建立模型 "
   ]
  },
  {
   "cell_type": "code",
   "execution_count": 14,
   "metadata": {},
   "outputs": [
    {
     "name": "stdout",
     "output_type": "stream",
     "text": [
      "Model: \"sequential_1\"\n",
      "_________________________________________________________________\n",
      "Layer (type)                 Output Shape              Param #   \n",
      "=================================================================\n",
      "conv2d_2 (Conv2D)            (None, 28, 28, 16)        416       \n",
      "_________________________________________________________________\n",
      "max_pooling2d_2 (MaxPooling2 (None, 14, 14, 16)        0         \n",
      "_________________________________________________________________\n",
      "conv2d_3 (Conv2D)            (None, 14, 14, 32)        12832     \n",
      "_________________________________________________________________\n",
      "max_pooling2d_3 (MaxPooling2 (None, 7, 7, 32)          0         \n",
      "_________________________________________________________________\n",
      "dropout (Dropout)            (None, 7, 7, 32)          0         \n",
      "_________________________________________________________________\n",
      "flatten (Flatten)            (None, 1568)              0         \n",
      "_________________________________________________________________\n",
      "dense (Dense)                (None, 128)               200832    \n",
      "_________________________________________________________________\n",
      "dropout_1 (Dropout)          (None, 128)               0         \n",
      "_________________________________________________________________\n",
      "dense_1 (Dense)              (None, 10)                1290      \n",
      "=================================================================\n",
      "Total params: 215,370\n",
      "Trainable params: 215,370\n",
      "Non-trainable params: 0\n",
      "_________________________________________________________________\n"
     ]
    }
   ],
   "source": [
    "model = Sequential()\n",
    "\n",
    "# 第一組卷積層與池化層\n",
    "model.add(Conv2D(16, # filters 過濾器數\n",
    "                 kernel_size = (5, 5), # 過濾器窗格的尺寸 (3,3) or (5,5)\n",
    "                 padding = \"same\", # 補零方式，預設參數 valid 是不補零，same是補零成相同尺寸\n",
    "                 input_shape= (28, 28, 1), activation = \"relu\")) # strides 步福數預設是(1,1)\n",
    "model.add(MaxPooling2D(pool_size = (2, 2))) # padding、strides同 conv2D\n",
    "\n",
    "#第二組卷積層與池化層\n",
    "model.add(Conv2D(32, kernel_size = (5, 5), padding = \"same\", activation = \"relu\"))\n",
    "model.add(MaxPooling2D(pool_size = (2, 2)))\n",
    "\n",
    "# 定義 Dropout、平坦層和連接層\n",
    "model.add(Dropout(0.5))\n",
    "model.add(Flatten())\n",
    "model.add(Dense(128, activation=\"relu\"))\n",
    "model.add(Dropout(0.5))\n",
    "model.add(Dense(10, activation=\"softmax\"))\n",
    "model.summary()"
   ]
  },
  {
   "cell_type": "code",
   "execution_count": 16,
   "metadata": {},
   "outputs": [
    {
     "name": "stdout",
     "output_type": "stream",
     "text": [
      "Epoch 1/10\n",
      "375/375 - 23s - loss: 0.4149 - accuracy: 0.8698 - val_loss: 0.0866 - val_accuracy: 0.9743\n",
      "Epoch 2/10\n",
      "375/375 - 24s - loss: 0.1404 - accuracy: 0.9567 - val_loss: 0.0573 - val_accuracy: 0.9825\n",
      "Epoch 3/10\n",
      "375/375 - 23s - loss: 0.1043 - accuracy: 0.9685 - val_loss: 0.0474 - val_accuracy: 0.9870\n",
      "Epoch 4/10\n",
      "375/375 - 23s - loss: 0.0854 - accuracy: 0.9744 - val_loss: 0.0393 - val_accuracy: 0.9889\n",
      "Epoch 5/10\n",
      "375/375 - 23s - loss: 0.0737 - accuracy: 0.9775 - val_loss: 0.0379 - val_accuracy: 0.9892\n",
      "Epoch 6/10\n",
      "375/375 - 23s - loss: 0.0672 - accuracy: 0.9799 - val_loss: 0.0349 - val_accuracy: 0.9906\n",
      "Epoch 7/10\n",
      "375/375 - 26s - loss: 0.0627 - accuracy: 0.9805 - val_loss: 0.0338 - val_accuracy: 0.9912\n",
      "Epoch 8/10\n",
      "375/375 - 26s - loss: 0.0574 - accuracy: 0.9824 - val_loss: 0.0347 - val_accuracy: 0.9904\n",
      "Epoch 9/10\n",
      "375/375 - 26s - loss: 0.0540 - accuracy: 0.9834 - val_loss: 0.0302 - val_accuracy: 0.9913\n",
      "Epoch 10/10\n",
      "375/375 - 27s - loss: 0.0506 - accuracy: 0.9846 - val_loss: 0.0312 - val_accuracy: 0.9906\n"
     ]
    }
   ],
   "source": [
    "model.compile(loss = \"categorical_crossentropy\", optimizer = \"adam\", metrics = [\"accuracy\"])\n",
    "history = model.fit(X_train, Y_train, validation_split = 0.2, epochs = 10, batch_size = 128, verbose =2)"
   ]
  },
  {
   "cell_type": "code",
   "execution_count": 18,
   "metadata": {},
   "outputs": [
    {
     "name": "stdout",
     "output_type": "stream",
     "text": [
      "1875/1875 [==============================] - 11s 6ms/step - loss: 0.0187 - accuracy: 0.9940\n",
      "訓練集的準確度 : 0.9940\n",
      "313/313 [==============================] - 2s 6ms/step - loss: 0.0238 - accuracy: 0.9918\n",
      "測試集準確度 : 0.9918\n"
     ]
    }
   ],
   "source": [
    "loss, accuracy = model.evaluate(X_train, Y_train)\n",
    "print(f\"訓練集的準確度 : {accuracy :.4f}\")\n",
    "loss, accuracy = model.evaluate(X_test, Y_test)\n",
    "print(f\"測試集準確度 : {accuracy :.4f}\")"
   ]
  },
  {
   "cell_type": "markdown",
   "metadata": {},
   "source": [
    "上述驗證資料的準確度是 99.40% ，測試集的準確度是 99.18%。"
   ]
  },
  {
   "cell_type": "code",
   "execution_count": 20,
   "metadata": {},
   "outputs": [
    {
     "data": {
      "image/png": "[encoded data removed]",
      "text/plain": [
       "<Figure size 432x288 with 1 Axes>"
      ]
     },
     "metadata": {},
     "output_type": "display_data"
    }
   ],
   "source": [
    "import matplotlib.pyplot as plt\n",
    "\n",
    "loss = history.history[\"loss\"]\n",
    "val_loss = history.history[\"val_loss\"]\n",
    "epochs = range(1, len(loss)+1)\n",
    "plt.plot(epochs, loss, label = \"Training loss\")\n",
    "plt.plot(epochs, val_loss, label = \"Validation loss\")\n",
    "plt.xlabel(\"epochs\")\n",
    "plt.ylabel(\"loss\")\n",
    "plt.legend()\n",
    "plt.show()"
   ]
  },
  {
   "cell_type": "code",
   "execution_count": 23,
   "metadata": {},
   "outputs": [
    {
     "data": {
      "image/png": "[encoded data removed]",
      "text/plain": [
       "<Figure size 432x288 with 1 Axes>"
      ]
     },
     "metadata": {},
     "output_type": "display_data"
    }
   ],
   "source": [
    "acc = history.history[\"accuracy\"]\n",
    "val_acc = history.history[\"val_accuracy\"]\n",
    "epochs = range(1, len(loss)+1)\n",
    "plt.plot(epochs, acc, label = \"Training loss\")\n",
    "plt.plot(epochs, val_acc, label = \"Validation loss\")\n",
    "plt.xlabel(\"epochs\")\n",
    "plt.ylabel(\"loss\")\n",
    "plt.legend()\n",
    "plt.show()"
   ]
  },
  {
   "cell_type": "markdown",
   "metadata": {},
   "source": [
    "可以看到隨著訓練週期的增加，訓練損失與驗證損失都是持續的減少；訓練準確度與驗證準確度都是持續的提升。"
   ]
  },
  {
   "cell_type": "code",
   "execution_count": 30,
   "metadata": {},
   "outputs": [
    {
     "name": "stdout",
     "output_type": "stream",
     "text": [
      "Epoch 1/10\n",
      "469/469 - 29s - loss: 0.3452 - accuracy: 0.8913\n",
      "Epoch 2/10\n",
      "469/469 - 31s - loss: 0.1154 - accuracy: 0.9655\n",
      "Epoch 3/10\n",
      "469/469 - 31s - loss: 0.0901 - accuracy: 0.9731\n",
      "Epoch 4/10\n",
      "469/469 - 31s - loss: 0.0716 - accuracy: 0.9783\n",
      "Epoch 5/10\n",
      "469/469 - 32s - loss: 0.0651 - accuracy: 0.9800\n",
      "Epoch 6/10\n",
      "469/469 - 32s - loss: 0.0574 - accuracy: 0.9829\n",
      "Epoch 7/10\n",
      "469/469 - 32s - loss: 0.0557 - accuracy: 0.9833\n",
      "Epoch 8/10\n",
      "469/469 - 33s - loss: 0.0491 - accuracy: 0.9847\n",
      "Epoch 9/10\n",
      "469/469 - 32s - loss: 0.0454 - accuracy: 0.9863\n",
      "Epoch 10/10\n",
      "469/469 - 33s - loss: 0.0448 - accuracy: 0.9862\n"
     ]
    },
    {
     "name": "stderr",
     "output_type": "stream",
     "text": [
      "C:\\Users\\user\\AppData\\Roaming\\Python\\Python36\\site-packages\\tensorflow\\python\\keras\\engine\\sequential.py:455: UserWarning: `model.predict_classes()` is deprecated and will be removed after 2021-01-01. Please use instead:* `np.argmax(model.predict(x), axis=-1)`,   if your model does multi-class classification   (e.g. if it uses a `softmax` last-layer activation).* `(model.predict(x) > 0.5).astype(\"int32\")`,   if your model does binary classification   (e.g. if it uses a `sigmoid` last-layer activation).\n",
      "  warnings.warn('`model.predict_classes()` is deprecated and '\n"
     ]
    },
    {
     "name": "stdout",
     "output_type": "stream",
     "text": [
      "predict    0     1     2     3    4    5    6     7    8    9\n",
      "label                                                        \n",
      "0        977     0     0     0    0    0    1     1    1    0\n",
      "1          0  1133     0     1    0    0    0     0    1    0\n",
      "2          0     1  1027     0    0    0    0     3    1    0\n",
      "3          0     0     0  1008    0    0    0     1    1    0\n",
      "4          0     0     0     0  971    0    3     0    2    6\n",
      "5          1     0     0     9    0  880    1     0    0    1\n",
      "6          5     2     0     0    1    2  946     0    2    0\n",
      "7          0     2     5     1    0    0    0  1016    1    3\n",
      "8          1     0     2     1    0    1    0     1  967    1\n",
      "9          0     0     0     2    2    4    0     2    3  996\n"
     ]
    }
   ],
   "source": [
    "import pandas as pd\n",
    "\n",
    "seed = 7\n",
    "np.random.seed(seed)\n",
    "\n",
    "(X_train, Y_train), (X_test, Y_test) = mnist.load_data()\n",
    "X_train = X_train.reshape(X_train.shape[0], 28, 28, 1).astype(\"float32\")\n",
    "X_test = X_test.reshape(X_test.shape[0], 28, 28, 1)\n",
    "\n",
    "X_train = X_train / 255\n",
    "X_test = X_test / 255\n",
    "\n",
    "Y_test_bk = Y_test.copy() # 備份 Y_test 資料集以做後續預測結果的比對\n",
    "Y_train = to_categorical(Y_train)\n",
    "Y_test = to_categorical(Y_test)\n",
    "\n",
    "model = Sequential()\n",
    "\n",
    "# 第一組卷積層與池化層\n",
    "model.add(Conv2D(16, kernel_size = (5, 5), padding = \"same\", input_shape= (28, 28, 1), activation = \"relu\")) \n",
    "model.add(MaxPooling2D(pool_size = (2, 2))) \n",
    "#第二組卷積層與池化層\n",
    "model.add(Conv2D(32, kernel_size = (5, 5), padding = \"same\", activation = \"relu\"))\n",
    "model.add(MaxPooling2D(pool_size = (2, 2)))\n",
    "\n",
    "# 定義 Dropout、平坦層和連接層\n",
    "model.add(Dropout(0.5))\n",
    "model.add(Flatten())\n",
    "model.add(Dense(128, activation=\"relu\"))\n",
    "model.add(Dropout(0.5))\n",
    "model.add(Dense(10, activation=\"softmax\"))\n",
    "\n",
    "model.compile(loss = \"categorical_crossentropy\", optimizer = \"adam\", metrics = [\"accuracy\"])\n",
    "model.fit(X_train, Y_train, epochs = 10, batch_size = 128, verbose =2)\n",
    "\n",
    "Y_pred = model.predict_classes(X_test)\n",
    "tb = pd.crosstab(Y_test_bk.astype(int), Y_pred.astype(int), rownames = [\"label\"], colnames = [\"predict\"] )\n",
    "print(tb)"
   ]
  },
  {
   "cell_type": "code",
   "execution_count": null,
   "metadata": {
    "collapsed": true
   },
   "outputs": [],
   "source": []
  }
 ],
 "metadata": {
  "kernelspec": {
   "display_name": "Python 3",
   "language": "python",
   "name": "python3"
  },
  "language_info": {
   "codemirror_mode": {
    "name": "ipython",
    "version": 3
   },
   "file_extension": ".py",
   "mimetype": "text/x-python",
   "name": "python",
   "nbconvert_exporter": "python",
   "pygments_lexer": "ipython3",
   "version": "3.6.3"
  }
 },
 "nbformat": 4,
 "nbformat_minor": 2
}
